{
 "cells": [
  {
   "cell_type": "markdown",
   "metadata": {},
   "source": [
    "# Gauss Siedel by Mycticount X"
   ]
  },
  {
   "cell_type": "code",
   "execution_count": null,
   "metadata": {},
   "outputs": [],
   "source": [
    "import numpy as np\n",
    "import matplotlib.pyplot as plt"
   ]
  },
  {
   "cell_type": "code",
   "execution_count": null,
   "metadata": {},
   "outputs": [],
   "source": [
    "import numpy as np\n",
    "\n",
    "\n",
    "def diagonal_dominant(mtx):\n",
    "    mtx = np.array(mtx)\n",
    "    diag = np.diag(np.abs(mtx))\n",
    "    \n",
    "    # Axis = 1 (Cari Row)\n",
    "    other = np.sum(np.abs(mtx), axis=1) - diag\n",
    "    \n",
    "    if np.any(diag <= other):\n",
    "        return False\n",
    "    return True\n",
    "\n",
    "def gauss_seidel(mtx, y, epsilon=0.01, max_iter=15):\n",
    "    if not diagonal_dominant(mtx):\n",
    "        print(\"Not Diagonally Dominant\")\n",
    "        return None\n",
    "    \n",
    "    x = np.array(mtx, dtype=float)\n",
    "    y = np.array(y, dtype=float)\n",
    "    \n",
    "    diag = np.diag(x)\n",
    "    \n",
    "    x = -x\n",
    "    np.fill_diagonal(x, 0)\n",
    "    \n",
    "    start = np.zeros_like(y)\n",
    "    \n",
    "    for k in range(max_iter):\n",
    "        new = np.copy(start)\n",
    "        \n",
    "        for i, r in enumerate(x):\n",
    "            new[i] = (y[i] + np.dot(r, start)) / diag[i]\n",
    "        \n",
    "        print(f'Iterasi {k}: {new}')\n",
    "        \n",
    "        dx = np.linalg.norm(new - start)\n",
    "        print(f'dx: {dx}')\n",
    "        \n",
    "        if dx < epsilon:\n",
    "            print(\"Converged!\")\n",
    "            return new\n",
    "        start = new\n",
    "    \n",
    "    print(\"Not Converged\")\n",
    "    return None\n",
    "\n",
    "Xm = [\n",
    "    # Persamaan 1\n",
    "    [\n",
    "      [6, 3, 2],\n",
    "      [2, 7, 3],\n",
    "      [7, 5, 15]\n",
    "    ],\n",
    "    # Persamaan 2\n",
    "    [\n",
    "      [9, 2, 3, 2],\n",
    "      [4, 11, 2, 3],\n",
    "      [1, -4, 8, -1],\n",
    "      [5, -3, -6, 16],\n",
    "    ]\n",
    "]\n",
    "\n",
    "Ym = [\n",
    "    # Hasil dari persamaan 1\n",
    "    [8, 5, 10],\n",
    "    # Hasil dari persamaan 2\n",
    "    [15, 9, 15, 21]\n",
    "]\n",
    "\n",
    "for i, (x, y) in enumerate(zip(Xm, Ym)):\n",
    "    print(f'Persamaan {i+1}:')\n",
    "    result = gauss_seidel(x, y)\n",
    "    if result is not None:\n",
    "        print(f'Hasil akhir: {result}')\n",
    "    print()\n"
   ]
  }
 ],
 "metadata": {
  "kernelspec": {
   "display_name": "computer_vision",
   "language": "python",
   "name": "python3"
  },
  "language_info": {
   "name": "python",
   "version": "3.12.4"
  }
 },
 "nbformat": 4,
 "nbformat_minor": 2
}
